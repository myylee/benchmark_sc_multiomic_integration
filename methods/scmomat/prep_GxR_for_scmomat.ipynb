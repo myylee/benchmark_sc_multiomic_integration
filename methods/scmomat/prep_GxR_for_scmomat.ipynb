{
 "cells": [
  {
   "cell_type": "markdown",
   "id": "ebda1098",
   "metadata": {},
   "source": [
    "# Reference \n",
    "https://github.com/PeterZZQ/scMoMaT/blob/main/calc_pseudo_count/calc_pseudo_count.R"
   ]
  },
  {
   "cell_type": "code",
   "execution_count": 1,
   "id": "2e9f868c",
   "metadata": {
    "scrolled": true
   },
   "outputs": [
    {
     "name": "stderr",
     "output_type": "stream",
     "text": [
      "\n",
      "Attaching package: ‘BiocGenerics’\n",
      "\n",
      "\n",
      "The following objects are masked from ‘package:stats’:\n",
      "\n",
      "    IQR, mad, sd, var, xtabs\n",
      "\n",
      "\n",
      "The following objects are masked from ‘package:base’:\n",
      "\n",
      "    anyDuplicated, append, as.data.frame, basename, cbind, colnames,\n",
      "    dirname, do.call, duplicated, eval, evalq, Filter, Find, get, grep,\n",
      "    grepl, intersect, is.unsorted, lapply, Map, mapply, match, mget,\n",
      "    order, paste, pmax, pmax.int, pmin, pmin.int, Position, rank,\n",
      "    rbind, Reduce, rownames, sapply, setdiff, sort, table, tapply,\n",
      "    union, unique, unsplit, which.max, which.min\n",
      "\n",
      "\n",
      "Warning message:\n",
      "“package ‘GenomicRanges’ was built under R version 4.1.2”\n",
      "Loading required package: stats4\n",
      "\n",
      "Loading required package: S4Vectors\n",
      "\n",
      "\n",
      "Attaching package: ‘S4Vectors’\n",
      "\n",
      "\n",
      "The following objects are masked from ‘package:Matrix’:\n",
      "\n",
      "    expand, unname\n",
      "\n",
      "\n",
      "The following objects are masked from ‘package:base’:\n",
      "\n",
      "    expand.grid, I, unname\n",
      "\n",
      "\n",
      "Loading required package: IRanges\n",
      "\n",
      "Warning message:\n",
      "“package ‘IRanges’ was built under R version 4.1.2”\n",
      "Loading required package: GenomeInfoDb\n",
      "\n"
     ]
    }
   ],
   "source": [
    "# rm(list = ls())\n",
    "# gc()\n",
    "\n",
    "library(Matrix)\n",
    "library(BiocGenerics)\n",
    "library(GenomicRanges)\n",
    "library(IRanges)\n",
    "\n",
    "#' Extend\n",
    "#'\n",
    "#' Resize GenomicRanges upstream and or downstream.\n",
    "#' From \\url{https://support.bioconductor.org/p/78652/}\n",
    "#'\n",
    "#' @param x A range\n",
    "#' @param upstream Length to extend upstream\n",
    "#' @param downstream Length to extend downstream\n",
    "#' @param from.midpoint Count bases from region midpoint,\n",
    "#' rather than the 5' or 3' end for upstream and downstream\n",
    "#' respectively.\n",
    "#'\n",
    "#' @importFrom GenomicRanges trim\n",
    "#' @importFrom BiocGenerics start strand end width\n",
    "#' @importMethodsFrom GenomicRanges strand start end width\n",
    "#' @importFrom IRanges ranges IRanges \"ranges<-\"\n",
    "#' @export\n",
    "#' @concept utilities\n",
    "#' @return Returns a \\code{\\link[GenomicRanges]{GRanges}} object\n",
    "#' @examples\n",
    "#' Extend(x = blacklist_hg19, upstream = 100, downstream = 100)\n",
    "Extend <- function(\n",
    "    x,\n",
    "    upstream = 0,\n",
    "    downstream = 0,\n",
    "    from.midpoint = FALSE\n",
    ") {\n",
    "    if (any(strand(x = x) == \"*\")) {\n",
    "        warning(\"'*' ranges were treated as '+'\")\n",
    "    }\n",
    "    on_plus <- strand(x = x) == \"+\" | strand(x = x) == \"*\"\n",
    "    if (from.midpoint) {\n",
    "        midpoints <- start(x = x) + (width(x = x) / 2)\n",
    "        new_start <- midpoints - ifelse(\n",
    "            test = on_plus, yes = upstream, no = downstream\n",
    "        )\n",
    "        new_end <- midpoints + ifelse(\n",
    "            test = on_plus, yes = downstream, no = upstream\n",
    "        )\n",
    "    } else {\n",
    "        new_start <- start(x = x) - ifelse(\n",
    "            test = on_plus, yes = upstream, no = downstream\n",
    "        )\n",
    "        new_end <- end(x = x) + ifelse(\n",
    "            test = on_plus, yes = downstream, no = upstream\n",
    "        )\n",
    "    }\n",
    "    IRanges::ranges(x = x) <- IRanges::IRanges(start = new_start, end = new_end)\n",
    "    x <- trim(x = x)\n",
    "    return(x)\n",
    "}\n",
    "\n",
    "find_geneact <- function(peak.df, annotation.file, seq.levels, upstream = 2000, downstream = 0, verbose = FALSE,split=\"_\"){\n",
    "    # peak.df is the regions\n",
    "    peak = peak.df\n",
    "    # reformualte peak.df of the form \"chromosome\", \"start\", \"end\"\n",
    "    peak.df <- do.call(what = rbind, args = strsplit(x = peak.df, split = split))\n",
    "    peak.df <- as.data.frame(x = peak.df)\n",
    "    colnames(x = peak.df) <- c(\"chromosome\", \"start\", \"end\")\n",
    "    \n",
    "    # peak.df -> peaks.gr\n",
    "    peaks.gr <- GenomicRanges::makeGRangesFromDataFrame(df = peak.df)\n",
    "    BiocGenerics::start(peaks.gr[BiocGenerics::start(peaks.gr) == 0, ]) <- 1\n",
    "    \n",
    "    # gtf stores the annotation (reference genome)\n",
    "    gtf <- rtracklayer::import(con = annotation.file)\n",
    "    gtf <- GenomeInfoDb::keepSeqlevels(x = gtf, value = seq.levels, pruning.mode = \"coarse\")\n",
    "    if (!any(GenomeInfoDb::seqlevelsStyle(x = gtf) == GenomeInfoDb::seqlevelsStyle(x = peaks.gr))) {\n",
    "        GenomeInfoDb::seqlevelsStyle(gtf) <- GenomeInfoDb::seqlevelsStyle(peaks.gr)\n",
    "    }\n",
    "    # gtf.genes stores the genes \n",
    "    gtf.genes <- gtf[gtf$type == \"gene\"]\n",
    "    \n",
    "    # update the regions correspond to each gtf.genes, gtf.body_prom\n",
    "    gtf.body_prom <- Extend(x = gtf.genes, upstream = upstream, downstream = downstream)\n",
    "    \n",
    "    # assign peaks.gr to nearest gene region\n",
    "    gene.distances <- GenomicRanges::distanceToNearest(x = peaks.gr, subject = gtf.body_prom)\n",
    "    # only leave the ones(regions) overlap with the gene regions(distance = 0)\n",
    "    keep.overlaps <- gene.distances[rtracklayer::mcols(x = gene.distances)$distance == \n",
    "                                        0]\n",
    "    peak.ids <- peaks.gr[S4Vectors::queryHits(x = keep.overlaps)]\n",
    "    gene.ids <- gtf.genes[S4Vectors::subjectHits(x = keep.overlaps)]\n",
    "    gene.ids$gene_name[is.na(gene.ids$gene_name)] <- gene.ids$gene_id[is.na(gene.ids$gene_name)]\n",
    "    peak.ids$gene.name <- gene.ids$gene_name\n",
    "    peak.ids <- as.data.frame(x = peak.ids)\n",
    "    peak.ids$peak <- peak[S4Vectors::queryHits(x = keep.overlaps)]\n",
    "    # new annotations should include peaks and corresponding gene.name\n",
    "    annotations <- peak.ids[, c(\"peak\", \"gene.name\")]\n",
    "    \n",
    "    return(annotations)\n",
    "}\n",
    "\n",
    "\n",
    "# # hyper-parameters\n",
    "# species <- \"Mouse\"\n",
    "# # upstream region size (base-pair)\n",
    "# upstream <- 2000\n",
    "# # downstream region size (base-pair)\n",
    "# downstream <- 0\n",
    "\n",
    "# path <- \"./raw/\"\n",
    "\n",
    "# # regions chrX_start_end\n",
    "# regions <- read.table(file = paste0(path, \"regions.txt\"), sep = \",\", header = FALSE)[[1]]\n",
    "\n",
    "# # location of reference genome\n",
    "# if(species == \"Mouse\"){\n",
    "#     A = find_geneact(peak.df = regions, annotation.file = \"./reference_genome/Mus_musculus.GRCm38.84.gtf\", \n",
    "#                      seq.levels = c(1:19, \"X\", \"Y\"), upstream = upstream, downstream = downstream, verbose = TRUE)\n",
    "# } else if(species == \"Human\"){\n",
    "#     A = find_geneact(peak.df = regions, annotation.file = \"./reference_genome/Homo_sapiens.GRCh37.82.gtf\", \n",
    "#                      seq.levels = c(1:22, \"X\", \"Y\"), upstream = upstream, downstream = downstream, verbose = TRUE)\n",
    "# } else{\n",
    "#     stop(\"species can only be Human or Mouse\")\n",
    "# }\n",
    "\n",
    "# # output gene activity matrix\n",
    "# write.table(A, file = paste0(path, \"GxR.csv\"), sep = \",\")\n",
    "\n",
    "\n"
   ]
  },
  {
   "cell_type": "markdown",
   "id": "b030b3e3",
   "metadata": {},
   "source": [
    "# PBMC "
   ]
  },
  {
   "cell_type": "code",
   "execution_count": 13,
   "id": "48a6ba8a",
   "metadata": {
    "scrolled": true
   },
   "outputs": [
    {
     "name": "stderr",
     "output_type": "stream",
     "text": [
      "Validating h5Seurat file\n",
      "\n",
      "Initializing ATAC with data\n",
      "\n",
      "Adding counts for ATAC\n",
      "\n",
      "Adding miscellaneous information for ATAC\n",
      "\n",
      "Initializing RNA with data\n",
      "\n",
      "Adding counts for RNA\n",
      "\n",
      "Adding miscellaneous information for RNA\n",
      "\n",
      "Initializing SCT with data\n",
      "\n",
      "Adding counts for SCT\n",
      "\n",
      "Adding scale.data for SCT\n",
      "\n",
      "Adding variable feature information for SCT\n",
      "\n",
      "Adding miscellaneous information for SCT\n",
      "\n",
      "Adding reduction lsi\n",
      "\n",
      "Adding cell embeddings for lsi\n",
      "\n",
      "Adding feature loadings for lsi\n",
      "\n",
      "Adding miscellaneous information for lsi\n",
      "\n",
      "Adding reduction umap.atac\n",
      "\n",
      "Adding cell embeddings for umap.atac\n",
      "\n",
      "Adding miscellaneous information for umap.atac\n",
      "\n",
      "Adding reduction wnn.umap\n",
      "\n",
      "Adding cell embeddings for wnn.umap\n",
      "\n",
      "Adding miscellaneous information for wnn.umap\n",
      "\n",
      "Adding reduction pca\n",
      "\n",
      "Adding cell embeddings for pca\n",
      "\n",
      "Adding feature loadings for pca\n",
      "\n",
      "Adding miscellaneous information for pca\n",
      "\n",
      "Adding reduction umap.rna\n",
      "\n",
      "Adding cell embeddings for umap.rna\n",
      "\n",
      "Adding miscellaneous information for umap.rna\n",
      "\n",
      "Adding graph wknn\n",
      "\n",
      "Adding graph wsnn\n",
      "\n",
      "Adding neighbors weighted.nn\n",
      "\n",
      "Adding command information\n",
      "\n",
      "Adding cell-level metadata\n",
      "\n",
      "Adding miscellaneous information\n",
      "\n",
      "Adding tool-specific results\n",
      "\n"
     ]
    }
   ],
   "source": [
    "pbmc_atac = SeuratDisk::LoadH5Seurat(\"dataset/multiome_pbmc_10k/pbmc_10x_atac_peak_counts.h5Seurat\")"
   ]
  },
  {
   "cell_type": "code",
   "execution_count": 27,
   "id": "0e10f87e",
   "metadata": {},
   "outputs": [
    {
     "data": {
      "text/html": [
       "<style>\n",
       ".list-inline {list-style: none; margin:0; padding: 0}\n",
       ".list-inline>li {display: inline-block}\n",
       ".list-inline>li:not(:last-child)::after {content: \"\\00b7\"; padding: 0 .5ex}\n",
       "</style>\n",
       "<ol class=list-inline><li>'chr1-10109-10357'</li><li>'chr1-180730-181630'</li><li>'chr1-191491-191736'</li><li>'chr1-267816-268196'</li><li>'chr1-586028-586373'</li><li>'chr1-629721-630172'</li></ol>\n"
      ],
      "text/latex": [
       "\\begin{enumerate*}\n",
       "\\item 'chr1-10109-10357'\n",
       "\\item 'chr1-180730-181630'\n",
       "\\item 'chr1-191491-191736'\n",
       "\\item 'chr1-267816-268196'\n",
       "\\item 'chr1-586028-586373'\n",
       "\\item 'chr1-629721-630172'\n",
       "\\end{enumerate*}\n"
      ],
      "text/markdown": [
       "1. 'chr1-10109-10357'\n",
       "2. 'chr1-180730-181630'\n",
       "3. 'chr1-191491-191736'\n",
       "4. 'chr1-267816-268196'\n",
       "5. 'chr1-586028-586373'\n",
       "6. 'chr1-629721-630172'\n",
       "\n",
       "\n"
      ],
      "text/plain": [
       "[1] \"chr1-10109-10357\"   \"chr1-180730-181630\" \"chr1-191491-191736\"\n",
       "[4] \"chr1-267816-268196\" \"chr1-586028-586373\" \"chr1-629721-630172\""
      ]
     },
     "metadata": {},
     "output_type": "display_data"
    }
   ],
   "source": [
    "head(rownames(pbmc_atac))"
   ]
  },
  {
   "cell_type": "code",
   "execution_count": 26,
   "id": "be07bbb3",
   "metadata": {},
   "outputs": [],
   "source": [
    "# hyper-parameters\n",
    "#species <- \"Human\"\n",
    "# upstream region size (base-pair)\n",
    "upstream <- 2000\n",
    "# downstream region size (base-pair)\n",
    "downstream <- 0\n",
    "regions = rownames(pbmc_atac)\n",
    "A = find_geneact(peak.df = regions, annotation.file = \"GRCg38_genes.gtf.gz\", \n",
    "                 seq.levels = paste0('chr',c(1:22, \"X\", \"Y\")), upstream = upstream, downstream = downstream, \n",
    "                 verbose = TRUE,split=\"-\")\n"
   ]
  },
  {
   "cell_type": "code",
   "execution_count": 32,
   "id": "a2468638",
   "metadata": {},
   "outputs": [
    {
     "data": {
      "text/html": [
       "<table class=\"dataframe\">\n",
       "<caption>A data.frame: 6 × 2</caption>\n",
       "<thead>\n",
       "\t<tr><th></th><th scope=col>peak</th><th scope=col>gene.name</th></tr>\n",
       "\t<tr><th></th><th scope=col>&lt;chr&gt;</th><th scope=col>&lt;chr&gt;</th></tr>\n",
       "</thead>\n",
       "<tbody>\n",
       "\t<tr><th scope=row>1</th><td>chr1-267816-268196</td><td>AP006222.2</td></tr>\n",
       "\t<tr><th scope=row>2</th><td>chr1-586028-586373</td><td>AC114498.1</td></tr>\n",
       "\t<tr><th scope=row>3</th><td>chr1-777634-779926</td><td>LINC01409 </td></tr>\n",
       "\t<tr><th scope=row>4</th><td>chr1-816881-817647</td><td>FAM87B    </td></tr>\n",
       "\t<tr><th scope=row>5</th><td>chr1-819912-823500</td><td>LINC01128 </td></tr>\n",
       "\t<tr><th scope=row>6</th><td>chr1-825827-825889</td><td>LINC01128 </td></tr>\n",
       "</tbody>\n",
       "</table>\n"
      ],
      "text/latex": [
       "A data.frame: 6 × 2\n",
       "\\begin{tabular}{r|ll}\n",
       "  & peak & gene.name\\\\\n",
       "  & <chr> & <chr>\\\\\n",
       "\\hline\n",
       "\t1 & chr1-267816-268196 & AP006222.2\\\\\n",
       "\t2 & chr1-586028-586373 & AC114498.1\\\\\n",
       "\t3 & chr1-777634-779926 & LINC01409 \\\\\n",
       "\t4 & chr1-816881-817647 & FAM87B    \\\\\n",
       "\t5 & chr1-819912-823500 & LINC01128 \\\\\n",
       "\t6 & chr1-825827-825889 & LINC01128 \\\\\n",
       "\\end{tabular}\n"
      ],
      "text/markdown": [
       "\n",
       "A data.frame: 6 × 2\n",
       "\n",
       "| <!--/--> | peak &lt;chr&gt; | gene.name &lt;chr&gt; |\n",
       "|---|---|---|\n",
       "| 1 | chr1-267816-268196 | AP006222.2 |\n",
       "| 2 | chr1-586028-586373 | AC114498.1 |\n",
       "| 3 | chr1-777634-779926 | LINC01409  |\n",
       "| 4 | chr1-816881-817647 | FAM87B     |\n",
       "| 5 | chr1-819912-823500 | LINC01128  |\n",
       "| 6 | chr1-825827-825889 | LINC01128  |\n",
       "\n"
      ],
      "text/plain": [
       "  peak               gene.name \n",
       "1 chr1-267816-268196 AP006222.2\n",
       "2 chr1-586028-586373 AC114498.1\n",
       "3 chr1-777634-779926 LINC01409 \n",
       "4 chr1-816881-817647 FAM87B    \n",
       "5 chr1-819912-823500 LINC01128 \n",
       "6 chr1-825827-825889 LINC01128 "
      ]
     },
     "metadata": {},
     "output_type": "display_data"
    },
    {
     "data": {
      "text/html": [
       "<style>\n",
       ".list-inline {list-style: none; margin:0; padding: 0}\n",
       ".list-inline>li {display: inline-block}\n",
       ".list-inline>li:not(:last-child)::after {content: \"\\00b7\"; padding: 0 .5ex}\n",
       "</style>\n",
       "<ol class=list-inline><li>79559</li><li>2</li></ol>\n"
      ],
      "text/latex": [
       "\\begin{enumerate*}\n",
       "\\item 79559\n",
       "\\item 2\n",
       "\\end{enumerate*}\n"
      ],
      "text/markdown": [
       "1. 79559\n",
       "2. 2\n",
       "\n",
       "\n"
      ],
      "text/plain": [
       "[1] 79559     2"
      ]
     },
     "metadata": {},
     "output_type": "display_data"
    }
   ],
   "source": [
    "head(A)\n",
    "dim(A)"
   ]
  },
  {
   "cell_type": "code",
   "execution_count": 34,
   "id": "880dba05",
   "metadata": {},
   "outputs": [],
   "source": [
    "write.table(A, file = paste0('dataset/multiome_pbmc_10k/pbmc_peak_GxR.csv'), sep = \",\")"
   ]
  },
  {
   "cell_type": "code",
   "execution_count": null,
   "id": "fc68d32e",
   "metadata": {},
   "outputs": [],
   "source": [
    "df <- gather(cbind(A,1), 'Var2', 'Value' 2:4)"
   ]
  },
  {
   "cell_type": "code",
   "execution_count": 31,
   "id": "bbf8db8f",
   "metadata": {},
   "outputs": [],
   "source": [
    "graph_from_dataframe <- igraph::graph.data.frame(A)\n",
    "adjacency_matrix <- igraph::get.adjacency(graph_from_dataframe, sparse = TRUE)"
   ]
  },
  {
   "cell_type": "code",
   "execution_count": 33,
   "id": "00ad10bb",
   "metadata": {},
   "outputs": [
    {
     "ename": "ERROR",
     "evalue": "Error in eval(expr, envir, enclos): object 'adjacency_matrix' not found\n",
     "output_type": "error",
     "traceback": [
      "Error in eval(expr, envir, enclos): object 'adjacency_matrix' not found\nTraceback:\n"
     ]
    }
   ],
   "source": [
    "dim(adjacency_matrix)"
   ]
  },
  {
   "cell_type": "code",
   "execution_count": null,
   "id": "7b046666",
   "metadata": {},
   "outputs": [],
   "source": [
    "if (!any(GenomeInfoDb::seqlevelsStyle(x = gtf) == GenomeInfoDb::seqlevelsStyle(x = peaks.gr))) {\n",
    "    GenomeInfoDb::seqlevelsStyle(gtf) <- GenomeInfoDb::seqlevelsStyle(peaks.gr)\n",
    "}"
   ]
  },
  {
   "cell_type": "code",
   "execution_count": 16,
   "id": "654541a5",
   "metadata": {},
   "outputs": [
    {
     "data": {
      "text/html": [
       "<style>\n",
       ".list-inline {list-style: none; margin:0; padding: 0}\n",
       ".list-inline>li {display: inline-block}\n",
       ".list-inline>li:not(:last-child)::after {content: \"\\00b7\"; padding: 0 .5ex}\n",
       "</style>\n",
       "<ol class=list-inline><li>'chr1-10109-10357'</li><li>'chr1-180730-181630'</li><li>'chr1-191491-191736'</li><li>'chr1-267816-268196'</li><li>'chr1-586028-586373'</li><li>'chr1-629721-630172'</li></ol>\n"
      ],
      "text/latex": [
       "\\begin{enumerate*}\n",
       "\\item 'chr1-10109-10357'\n",
       "\\item 'chr1-180730-181630'\n",
       "\\item 'chr1-191491-191736'\n",
       "\\item 'chr1-267816-268196'\n",
       "\\item 'chr1-586028-586373'\n",
       "\\item 'chr1-629721-630172'\n",
       "\\end{enumerate*}\n"
      ],
      "text/markdown": [
       "1. 'chr1-10109-10357'\n",
       "2. 'chr1-180730-181630'\n",
       "3. 'chr1-191491-191736'\n",
       "4. 'chr1-267816-268196'\n",
       "5. 'chr1-586028-586373'\n",
       "6. 'chr1-629721-630172'\n",
       "\n",
       "\n"
      ],
      "text/plain": [
       "[1] \"chr1-10109-10357\"   \"chr1-180730-181630\" \"chr1-191491-191736\"\n",
       "[4] \"chr1-267816-268196\" \"chr1-586028-586373\" \"chr1-629721-630172\""
      ]
     },
     "metadata": {},
     "output_type": "display_data"
    }
   ],
   "source": [
    "head(regions)"
   ]
  },
  {
   "cell_type": "markdown",
   "id": "a9e57439",
   "metadata": {},
   "source": [
    "# BMMC"
   ]
  },
  {
   "cell_type": "code",
   "execution_count": 2,
   "id": "501e8f43",
   "metadata": {
    "scrolled": true
   },
   "outputs": [
    {
     "name": "stderr",
     "output_type": "stream",
     "text": [
      "Registered S3 method overwritten by 'SeuratDisk':\n",
      "  method            from  \n",
      "  as.sparse.H5Group Seurat\n",
      "\n",
      "Validating h5Seurat file\n",
      "\n",
      "Initializing ATAC with data\n",
      "\n",
      "Adding counts for ATAC\n",
      "\n",
      "Adding miscellaneous information for ATAC\n",
      "\n",
      "Loading required package: Signac\n",
      "\n",
      "\n",
      "Attaching package: ‘Signac’\n",
      "\n",
      "\n",
      "The following object is masked _by_ ‘.GlobalEnv’:\n",
      "\n",
      "    Extend\n",
      "\n",
      "\n",
      "Initializing RNA with data\n",
      "\n",
      "Adding counts for RNA\n",
      "\n",
      "Adding miscellaneous information for RNA\n",
      "\n",
      "Adding command information\n",
      "\n",
      "Adding cell-level metadata\n",
      "\n",
      "Adding miscellaneous information\n",
      "\n",
      "Adding tool-specific results\n",
      "\n"
     ]
    }
   ],
   "source": [
    "bmmc_atac = SeuratDisk::LoadH5Seurat(\"dataset/bmmc/multiome_bmmc_site1_or_donor1_ATAC_pmat.h5seurat\")"
   ]
  },
  {
   "cell_type": "code",
   "execution_count": 7,
   "id": "f0382b18",
   "metadata": {},
   "outputs": [
    {
     "data": {
      "text/html": [
       "<style>\n",
       ".list-inline {list-style: none; margin:0; padding: 0}\n",
       ".list-inline>li {display: inline-block}\n",
       ".list-inline>li:not(:last-child)::after {content: \"\\00b7\"; padding: 0 .5ex}\n",
       "</style>\n",
       "<ol class=list-inline><li>'chr1-9776-10668'</li><li>'chr1-180726-181005'</li><li>'chr1-181117-181803'</li><li>'chr1-191133-192055'</li><li>'chr1-267562-268456'</li><li>'chr1-629497-630394'</li></ol>\n"
      ],
      "text/latex": [
       "\\begin{enumerate*}\n",
       "\\item 'chr1-9776-10668'\n",
       "\\item 'chr1-180726-181005'\n",
       "\\item 'chr1-181117-181803'\n",
       "\\item 'chr1-191133-192055'\n",
       "\\item 'chr1-267562-268456'\n",
       "\\item 'chr1-629497-630394'\n",
       "\\end{enumerate*}\n"
      ],
      "text/markdown": [
       "1. 'chr1-9776-10668'\n",
       "2. 'chr1-180726-181005'\n",
       "3. 'chr1-181117-181803'\n",
       "4. 'chr1-191133-192055'\n",
       "5. 'chr1-267562-268456'\n",
       "6. 'chr1-629497-630394'\n",
       "\n",
       "\n"
      ],
      "text/plain": [
       "[1] \"chr1-9776-10668\"    \"chr1-180726-181005\" \"chr1-181117-181803\"\n",
       "[4] \"chr1-191133-192055\" \"chr1-267562-268456\" \"chr1-629497-630394\""
      ]
     },
     "metadata": {},
     "output_type": "display_data"
    },
    {
     "data": {
      "text/html": [
       "116490"
      ],
      "text/latex": [
       "116490"
      ],
      "text/markdown": [
       "116490"
      ],
      "text/plain": [
       "[1] 116490"
      ]
     },
     "metadata": {},
     "output_type": "display_data"
    }
   ],
   "source": [
    "head(rownames(bmmc_atac))\n",
    "length(rownames(bmmc_atac))"
   ]
  },
  {
   "cell_type": "code",
   "execution_count": 4,
   "id": "a01c1dbc",
   "metadata": {},
   "outputs": [],
   "source": [
    "# hyper-parameters\n",
    "#species <- \"Human\"\n",
    "# upstream region size (base-pair)\n",
    "upstream <- 2000\n",
    "# downstream region size (base-pair)\n",
    "downstream <- 0\n",
    "regions = rownames(bmmc_atac)\n",
    "A = find_geneact(peak.df = regions, annotation.file = \"GRCg38_genes.gtf.gz\", \n",
    "                 seq.levels = paste0('chr',c(1:22, \"X\", \"Y\")), upstream = upstream, downstream = downstream, \n",
    "                 verbose = TRUE,split=\"-\")\n",
    "write.table(A, file = paste0('dataset/bmmc/bmmc_peak_GxR.csv'), sep = \",\")"
   ]
  },
  {
   "cell_type": "markdown",
   "id": "2f82a7a3",
   "metadata": {},
   "source": [
    "# HPAP"
   ]
  },
  {
   "cell_type": "code",
   "execution_count": 11,
   "id": "64bab0f9",
   "metadata": {},
   "outputs": [
    {
     "name": "stderr",
     "output_type": "stream",
     "text": [
      "Validating h5Seurat file\n",
      "\n",
      "Initializing ATAC with data\n",
      "\n",
      "Adding counts for ATAC\n",
      "\n",
      "Adding miscellaneous information for ATAC\n",
      "\n",
      "Adding command information\n",
      "\n",
      "Adding cell-level metadata\n",
      "\n",
      "Adding miscellaneous information\n",
      "\n",
      "Adding tool-specific results\n",
      "\n"
     ]
    }
   ],
   "source": [
    "hpap_atac = SeuratDisk::LoadH5Seurat(\"/project/mingyaolpc/myylee/scmint/methods_eval/dataset/hpap/multiome/hpap_multiomeATAC_4donors.h5seurat\")\n",
    "\n"
   ]
  },
  {
   "cell_type": "code",
   "execution_count": 12,
   "id": "b45b8ae6",
   "metadata": {},
   "outputs": [
    {
     "data": {
      "text/html": [
       "<style>\n",
       ".list-inline {list-style: none; margin:0; padding: 0}\n",
       ".list-inline>li {display: inline-block}\n",
       ".list-inline>li:not(:last-child)::after {content: \"\\00b7\"; padding: 0 .5ex}\n",
       "</style>\n",
       "<ol class=list-inline><li>'chr1-10064-10263'</li><li>'chr1-180628-180978'</li><li>'chr1-181263-181599'</li><li>'chr1-191296-191607'</li><li>'chr1-267866-268080'</li><li>'chr1-629134-629361'</li></ol>\n"
      ],
      "text/latex": [
       "\\begin{enumerate*}\n",
       "\\item 'chr1-10064-10263'\n",
       "\\item 'chr1-180628-180978'\n",
       "\\item 'chr1-181263-181599'\n",
       "\\item 'chr1-191296-191607'\n",
       "\\item 'chr1-267866-268080'\n",
       "\\item 'chr1-629134-629361'\n",
       "\\end{enumerate*}\n"
      ],
      "text/markdown": [
       "1. 'chr1-10064-10263'\n",
       "2. 'chr1-180628-180978'\n",
       "3. 'chr1-181263-181599'\n",
       "4. 'chr1-191296-191607'\n",
       "5. 'chr1-267866-268080'\n",
       "6. 'chr1-629134-629361'\n",
       "\n",
       "\n"
      ],
      "text/plain": [
       "[1] \"chr1-10064-10263\"   \"chr1-180628-180978\" \"chr1-181263-181599\"\n",
       "[4] \"chr1-191296-191607\" \"chr1-267866-268080\" \"chr1-629134-629361\""
      ]
     },
     "metadata": {},
     "output_type": "display_data"
    },
    {
     "data": {
      "text/html": [
       "172871"
      ],
      "text/latex": [
       "172871"
      ],
      "text/markdown": [
       "172871"
      ],
      "text/plain": [
       "[1] 172871"
      ]
     },
     "metadata": {},
     "output_type": "display_data"
    }
   ],
   "source": [
    "head(rownames(hpap_atac))\n",
    "length(rownames(hpap_atac))"
   ]
  },
  {
   "cell_type": "code",
   "execution_count": 13,
   "id": "4f21779a",
   "metadata": {},
   "outputs": [],
   "source": [
    "# hyper-parameters\n",
    "#species <- \"Human\"\n",
    "# upstream region size (base-pair)\n",
    "upstream <- 2000\n",
    "# downstream region size (base-pair)\n",
    "downstream <- 0\n",
    "regions = rownames(hpap_atac)\n",
    "A = find_geneact(peak.df = regions, annotation.file = \"GRCg38_genes.gtf.gz\", \n",
    "                 seq.levels = paste0('chr',c(1:22, \"X\", \"Y\")), upstream = upstream, downstream = downstream, \n",
    "                 verbose = TRUE,split=\"-\")\n",
    "write.table(A, file = paste0('/project/mingyaolpc/myylee/scmint/methods_eval/dataset/hpap/hpap_peak_GxR.csv'), sep = \",\")\n",
    "\n"
   ]
  },
  {
   "cell_type": "markdown",
   "id": "756fa559",
   "metadata": {},
   "source": [
    "# Mouse skin share-seq"
   ]
  },
  {
   "cell_type": "code",
   "execution_count": 2,
   "id": "272b8f66",
   "metadata": {},
   "outputs": [
    {
     "name": "stderr",
     "output_type": "stream",
     "text": [
      "Registered S3 method overwritten by 'SeuratDisk':\n",
      "  method            from  \n",
      "  as.sparse.H5Group Seurat\n",
      "\n",
      "Validating h5Seurat file\n",
      "\n",
      "Initializing ATAC with data\n",
      "\n",
      "Adding counts for ATAC\n",
      "\n",
      "Adding miscellaneous information for ATAC\n",
      "\n",
      "Adding command information\n",
      "\n",
      "Adding cell-level metadata\n",
      "\n",
      "Adding miscellaneous information\n",
      "\n",
      "Adding tool-specific results\n",
      "\n"
     ]
    }
   ],
   "source": [
    "mouse_skin_atac = SeuratDisk::LoadH5Seurat(\"/project/mingyaolpc/myylee/scmint/methods_eval/dataset/mouse_skin/mouse_skin_shareseq_atac.h5seurat\")\n",
    "\n"
   ]
  },
  {
   "cell_type": "code",
   "execution_count": 3,
   "id": "18f51602",
   "metadata": {},
   "outputs": [
    {
     "data": {
      "text/html": [
       "<style>\n",
       ".list-inline {list-style: none; margin:0; padding: 0}\n",
       ".list-inline>li {display: inline-block}\n",
       ".list-inline>li:not(:last-child)::after {content: \"\\00b7\"; padding: 0 .5ex}\n",
       "</style>\n",
       "<ol class=list-inline><li>'chrX-143482906-143483206'</li><li>'chr6-3200976-3201276'</li><li>'chr9-123461850-123462150'</li><li>'chr1-56782095-56782395'</li><li>'chr9-56223668-56223968'</li><li>'chr1-88277459-88277759'</li></ol>\n"
      ],
      "text/latex": [
       "\\begin{enumerate*}\n",
       "\\item 'chrX-143482906-143483206'\n",
       "\\item 'chr6-3200976-3201276'\n",
       "\\item 'chr9-123461850-123462150'\n",
       "\\item 'chr1-56782095-56782395'\n",
       "\\item 'chr9-56223668-56223968'\n",
       "\\item 'chr1-88277459-88277759'\n",
       "\\end{enumerate*}\n"
      ],
      "text/markdown": [
       "1. 'chrX-143482906-143483206'\n",
       "2. 'chr6-3200976-3201276'\n",
       "3. 'chr9-123461850-123462150'\n",
       "4. 'chr1-56782095-56782395'\n",
       "5. 'chr9-56223668-56223968'\n",
       "6. 'chr1-88277459-88277759'\n",
       "\n",
       "\n"
      ],
      "text/plain": [
       "[1] \"chrX-143482906-143483206\" \"chr6-3200976-3201276\"    \n",
       "[3] \"chr9-123461850-123462150\" \"chr1-56782095-56782395\"  \n",
       "[5] \"chr9-56223668-56223968\"   \"chr1-88277459-88277759\"  "
      ]
     },
     "metadata": {},
     "output_type": "display_data"
    },
    {
     "data": {
      "text/html": [
       "344592"
      ],
      "text/latex": [
       "344592"
      ],
      "text/markdown": [
       "344592"
      ],
      "text/plain": [
       "[1] 344592"
      ]
     },
     "metadata": {},
     "output_type": "display_data"
    }
   ],
   "source": [
    "head(rownames(mouse_skin_atac))\n",
    "length(rownames(mouse_skin_atac))"
   ]
  },
  {
   "cell_type": "code",
   "execution_count": 4,
   "id": "ae3d8287",
   "metadata": {},
   "outputs": [
    {
     "data": {
      "text/plain": [
       "\n",
       " chr1 chr10 chr11 chr12 chr13 chr14 chr15 chr16 chr17 chr18 chr19  chr2  chr3 \n",
       "23891 18717 23570 14801 16622 13526 15166 12972 14076 11862 10164 26635 18402 \n",
       " chr4  chr5  chr6  chr7  chr8  chr9  chrX \n",
       "22227 20489 18856 19908 17395 19025  6288 "
      ]
     },
     "metadata": {},
     "output_type": "display_data"
    }
   ],
   "source": [
    "table(gsub(\"-.*\",\"\",rownames(mouse_skin_atac)))"
   ]
  },
  {
   "cell_type": "code",
   "execution_count": 19,
   "id": "7e5afacd",
   "metadata": {},
   "outputs": [],
   "source": [
    "# hyper-parameters\n",
    "#species <- \"Mouse\"\n",
    "# upstream region size (base-pair)\n",
    "upstream <- 2000\n",
    "# downstream region size (base-pair)\n",
    "downstream <- 0\n",
    "regions = rownames(mouse_skin_atac)\n",
    "A = find_geneact(peak.df = regions, annotation.file = \"mm10_genes.gtf.gz\", \n",
    "                 seq.levels = paste0('chr',c(1:19, \"X\", \"Y\")), upstream = upstream, downstream = downstream, \n",
    "                 verbose = TRUE,split=\"-\")\n",
    "write.table(A, file = paste0('/project/mingyaolpc/myylee/scmint/methods_eval/dataset/mouse_skin/mouse_skin_peak_GxR.csv'), sep = \",\")\n",
    "\n"
   ]
  },
  {
   "cell_type": "code",
   "execution_count": 18,
   "id": "76e05d7c",
   "metadata": {},
   "outputs": [
    {
     "data": {
      "text/html": [
       "<style>\n",
       ".list-inline {list-style: none; margin:0; padding: 0}\n",
       ".list-inline>li {display: inline-block}\n",
       ".list-inline>li:not(:last-child)::after {content: \"\\00b7\"; padding: 0 .5ex}\n",
       "</style>\n",
       "<ol class=list-inline><li>'AC163611.2'</li><li>'AC163611.2'</li><li>'AC163611.2'</li><li>'AC163611.2'</li><li>'AC163611.2'</li><li>'AC163611.2'</li><li>'AC140365.1'</li><li>'AC140365.1'</li><li>'AC140365.1'</li><li>'AC140365.1'</li><li>'AC140365.1'</li><li>'AC140365.1'</li><li>'AC140365.1'</li><li>'AC140365.1'</li><li>'AC140365.1'</li><li>'AC140365.1'</li><li>'AC140365.1'</li><li>'AC140365.1'</li><li>'AC124606.2'</li><li>'AC124606.2'</li><li>'AC124606.2'</li><li>'AC124606.2'</li><li>'AC124606.2'</li><li>'AC124606.2'</li><li>'AC124606.2'</li><li>'AC124606.2'</li><li>'AC124606.2'</li><li>'AC124606.2'</li><li>'AC124606.2'</li><li>'AC124606.1'</li><li>'AC124606.1'</li><li>'AC124606.1'</li><li>'AC124606.1'</li><li>'AC124606.1'</li><li>'AC124606.1'</li><li>'AC124606.1'</li><li>'AC124606.1'</li><li>'AC124606.1'</li><li>'AC124606.1'</li><li>'AC124606.1'</li><li>'AC133095.2'</li><li>'AC133095.2'</li><li>'AC133095.2'</li><li>'AC133095.2'</li><li>'AC133095.2'</li><li>'AC133095.2'</li><li>'AC133095.2'</li><li>'AC133095.2'</li><li>'AC133095.2'</li><li>'AC133095.2'</li><li>'AC133095.2'</li><li>'AC133095.1'</li><li>'AC133095.1'</li><li>'AC133095.1'</li><li>'AC133095.1'</li><li>'AC133095.1'</li><li>'AC133095.1'</li><li>'AC133095.1'</li><li>'AC133095.1'</li><li>'AC133095.1'</li><li>'AC133095.1'</li><li>'AC133095.1'</li><li>'AC234645.1'</li><li>'AC234645.1'</li><li>'AC234645.1'</li><li>'AC234645.1'</li><li>'AC234645.1'</li><li>'AC149090.1'</li><li>'AC149090.1'</li><li>'AC149090.1'</li><li>'AC149090.1'</li><li>'AC149090.1'</li><li>'AC149090.1'</li><li>'AC149090.1'</li><li>'AC149090.1'</li><li>'AC149090.1'</li><li>'AC149090.1'</li><li>'AC149090.1'</li><li>'AC149090.1'</li><li>'AC149090.1'</li><li>'AC149090.1'</li><li>'AC149090.1'</li><li>'AC149090.1'</li><li>'AC149090.1'</li><li>'AC149090.1'</li><li>'AC149090.1'</li><li>'AC149090.1'</li><li>'AC149090.1'</li><li>'AC149090.1'</li><li>'AC149090.1'</li><li>'AC149090.1'</li><li>'AC149090.1'</li><li>'AC149090.1'</li><li>'AC149090.1'</li><li>'AC149090.1'</li><li>'AC149090.1'</li><li>'AC149090.1'</li><li>'AC149090.1'</li><li>'AC149090.1'</li><li>'AC149090.1'</li></ol>\n"
      ],
      "text/latex": [
       "\\begin{enumerate*}\n",
       "\\item 'AC163611.2'\n",
       "\\item 'AC163611.2'\n",
       "\\item 'AC163611.2'\n",
       "\\item 'AC163611.2'\n",
       "\\item 'AC163611.2'\n",
       "\\item 'AC163611.2'\n",
       "\\item 'AC140365.1'\n",
       "\\item 'AC140365.1'\n",
       "\\item 'AC140365.1'\n",
       "\\item 'AC140365.1'\n",
       "\\item 'AC140365.1'\n",
       "\\item 'AC140365.1'\n",
       "\\item 'AC140365.1'\n",
       "\\item 'AC140365.1'\n",
       "\\item 'AC140365.1'\n",
       "\\item 'AC140365.1'\n",
       "\\item 'AC140365.1'\n",
       "\\item 'AC140365.1'\n",
       "\\item 'AC124606.2'\n",
       "\\item 'AC124606.2'\n",
       "\\item 'AC124606.2'\n",
       "\\item 'AC124606.2'\n",
       "\\item 'AC124606.2'\n",
       "\\item 'AC124606.2'\n",
       "\\item 'AC124606.2'\n",
       "\\item 'AC124606.2'\n",
       "\\item 'AC124606.2'\n",
       "\\item 'AC124606.2'\n",
       "\\item 'AC124606.2'\n",
       "\\item 'AC124606.1'\n",
       "\\item 'AC124606.1'\n",
       "\\item 'AC124606.1'\n",
       "\\item 'AC124606.1'\n",
       "\\item 'AC124606.1'\n",
       "\\item 'AC124606.1'\n",
       "\\item 'AC124606.1'\n",
       "\\item 'AC124606.1'\n",
       "\\item 'AC124606.1'\n",
       "\\item 'AC124606.1'\n",
       "\\item 'AC124606.1'\n",
       "\\item 'AC133095.2'\n",
       "\\item 'AC133095.2'\n",
       "\\item 'AC133095.2'\n",
       "\\item 'AC133095.2'\n",
       "\\item 'AC133095.2'\n",
       "\\item 'AC133095.2'\n",
       "\\item 'AC133095.2'\n",
       "\\item 'AC133095.2'\n",
       "\\item 'AC133095.2'\n",
       "\\item 'AC133095.2'\n",
       "\\item 'AC133095.2'\n",
       "\\item 'AC133095.1'\n",
       "\\item 'AC133095.1'\n",
       "\\item 'AC133095.1'\n",
       "\\item 'AC133095.1'\n",
       "\\item 'AC133095.1'\n",
       "\\item 'AC133095.1'\n",
       "\\item 'AC133095.1'\n",
       "\\item 'AC133095.1'\n",
       "\\item 'AC133095.1'\n",
       "\\item 'AC133095.1'\n",
       "\\item 'AC133095.1'\n",
       "\\item 'AC234645.1'\n",
       "\\item 'AC234645.1'\n",
       "\\item 'AC234645.1'\n",
       "\\item 'AC234645.1'\n",
       "\\item 'AC234645.1'\n",
       "\\item 'AC149090.1'\n",
       "\\item 'AC149090.1'\n",
       "\\item 'AC149090.1'\n",
       "\\item 'AC149090.1'\n",
       "\\item 'AC149090.1'\n",
       "\\item 'AC149090.1'\n",
       "\\item 'AC149090.1'\n",
       "\\item 'AC149090.1'\n",
       "\\item 'AC149090.1'\n",
       "\\item 'AC149090.1'\n",
       "\\item 'AC149090.1'\n",
       "\\item 'AC149090.1'\n",
       "\\item 'AC149090.1'\n",
       "\\item 'AC149090.1'\n",
       "\\item 'AC149090.1'\n",
       "\\item 'AC149090.1'\n",
       "\\item 'AC149090.1'\n",
       "\\item 'AC149090.1'\n",
       "\\item 'AC149090.1'\n",
       "\\item 'AC149090.1'\n",
       "\\item 'AC149090.1'\n",
       "\\item 'AC149090.1'\n",
       "\\item 'AC149090.1'\n",
       "\\item 'AC149090.1'\n",
       "\\item 'AC149090.1'\n",
       "\\item 'AC149090.1'\n",
       "\\item 'AC149090.1'\n",
       "\\item 'AC149090.1'\n",
       "\\item 'AC149090.1'\n",
       "\\item 'AC149090.1'\n",
       "\\item 'AC149090.1'\n",
       "\\item 'AC149090.1'\n",
       "\\item 'AC149090.1'\n",
       "\\end{enumerate*}\n"
      ],
      "text/markdown": [
       "1. 'AC163611.2'\n",
       "2. 'AC163611.2'\n",
       "3. 'AC163611.2'\n",
       "4. 'AC163611.2'\n",
       "5. 'AC163611.2'\n",
       "6. 'AC163611.2'\n",
       "7. 'AC140365.1'\n",
       "8. 'AC140365.1'\n",
       "9. 'AC140365.1'\n",
       "10. 'AC140365.1'\n",
       "11. 'AC140365.1'\n",
       "12. 'AC140365.1'\n",
       "13. 'AC140365.1'\n",
       "14. 'AC140365.1'\n",
       "15. 'AC140365.1'\n",
       "16. 'AC140365.1'\n",
       "17. 'AC140365.1'\n",
       "18. 'AC140365.1'\n",
       "19. 'AC124606.2'\n",
       "20. 'AC124606.2'\n",
       "21. 'AC124606.2'\n",
       "22. 'AC124606.2'\n",
       "23. 'AC124606.2'\n",
       "24. 'AC124606.2'\n",
       "25. 'AC124606.2'\n",
       "26. 'AC124606.2'\n",
       "27. 'AC124606.2'\n",
       "28. 'AC124606.2'\n",
       "29. 'AC124606.2'\n",
       "30. 'AC124606.1'\n",
       "31. 'AC124606.1'\n",
       "32. 'AC124606.1'\n",
       "33. 'AC124606.1'\n",
       "34. 'AC124606.1'\n",
       "35. 'AC124606.1'\n",
       "36. 'AC124606.1'\n",
       "37. 'AC124606.1'\n",
       "38. 'AC124606.1'\n",
       "39. 'AC124606.1'\n",
       "40. 'AC124606.1'\n",
       "41. 'AC133095.2'\n",
       "42. 'AC133095.2'\n",
       "43. 'AC133095.2'\n",
       "44. 'AC133095.2'\n",
       "45. 'AC133095.2'\n",
       "46. 'AC133095.2'\n",
       "47. 'AC133095.2'\n",
       "48. 'AC133095.2'\n",
       "49. 'AC133095.2'\n",
       "50. 'AC133095.2'\n",
       "51. 'AC133095.2'\n",
       "52. 'AC133095.1'\n",
       "53. 'AC133095.1'\n",
       "54. 'AC133095.1'\n",
       "55. 'AC133095.1'\n",
       "56. 'AC133095.1'\n",
       "57. 'AC133095.1'\n",
       "58. 'AC133095.1'\n",
       "59. 'AC133095.1'\n",
       "60. 'AC133095.1'\n",
       "61. 'AC133095.1'\n",
       "62. 'AC133095.1'\n",
       "63. 'AC234645.1'\n",
       "64. 'AC234645.1'\n",
       "65. 'AC234645.1'\n",
       "66. 'AC234645.1'\n",
       "67. 'AC234645.1'\n",
       "68. 'AC149090.1'\n",
       "69. 'AC149090.1'\n",
       "70. 'AC149090.1'\n",
       "71. 'AC149090.1'\n",
       "72. 'AC149090.1'\n",
       "73. 'AC149090.1'\n",
       "74. 'AC149090.1'\n",
       "75. 'AC149090.1'\n",
       "76. 'AC149090.1'\n",
       "77. 'AC149090.1'\n",
       "78. 'AC149090.1'\n",
       "79. 'AC149090.1'\n",
       "80. 'AC149090.1'\n",
       "81. 'AC149090.1'\n",
       "82. 'AC149090.1'\n",
       "83. 'AC149090.1'\n",
       "84. 'AC149090.1'\n",
       "85. 'AC149090.1'\n",
       "86. 'AC149090.1'\n",
       "87. 'AC149090.1'\n",
       "88. 'AC149090.1'\n",
       "89. 'AC149090.1'\n",
       "90. 'AC149090.1'\n",
       "91. 'AC149090.1'\n",
       "92. 'AC149090.1'\n",
       "93. 'AC149090.1'\n",
       "94. 'AC149090.1'\n",
       "95. 'AC149090.1'\n",
       "96. 'AC149090.1'\n",
       "97. 'AC149090.1'\n",
       "98. 'AC149090.1'\n",
       "99. 'AC149090.1'\n",
       "100. 'AC149090.1'\n",
       "\n",
       "\n"
      ],
      "text/plain": [
       "  [1] \"AC163611.2\" \"AC163611.2\" \"AC163611.2\" \"AC163611.2\" \"AC163611.2\"\n",
       "  [6] \"AC163611.2\" \"AC140365.1\" \"AC140365.1\" \"AC140365.1\" \"AC140365.1\"\n",
       " [11] \"AC140365.1\" \"AC140365.1\" \"AC140365.1\" \"AC140365.1\" \"AC140365.1\"\n",
       " [16] \"AC140365.1\" \"AC140365.1\" \"AC140365.1\" \"AC124606.2\" \"AC124606.2\"\n",
       " [21] \"AC124606.2\" \"AC124606.2\" \"AC124606.2\" \"AC124606.2\" \"AC124606.2\"\n",
       " [26] \"AC124606.2\" \"AC124606.2\" \"AC124606.2\" \"AC124606.2\" \"AC124606.1\"\n",
       " [31] \"AC124606.1\" \"AC124606.1\" \"AC124606.1\" \"AC124606.1\" \"AC124606.1\"\n",
       " [36] \"AC124606.1\" \"AC124606.1\" \"AC124606.1\" \"AC124606.1\" \"AC124606.1\"\n",
       " [41] \"AC133095.2\" \"AC133095.2\" \"AC133095.2\" \"AC133095.2\" \"AC133095.2\"\n",
       " [46] \"AC133095.2\" \"AC133095.2\" \"AC133095.2\" \"AC133095.2\" \"AC133095.2\"\n",
       " [51] \"AC133095.2\" \"AC133095.1\" \"AC133095.1\" \"AC133095.1\" \"AC133095.1\"\n",
       " [56] \"AC133095.1\" \"AC133095.1\" \"AC133095.1\" \"AC133095.1\" \"AC133095.1\"\n",
       " [61] \"AC133095.1\" \"AC133095.1\" \"AC234645.1\" \"AC234645.1\" \"AC234645.1\"\n",
       " [66] \"AC234645.1\" \"AC234645.1\" \"AC149090.1\" \"AC149090.1\" \"AC149090.1\"\n",
       " [71] \"AC149090.1\" \"AC149090.1\" \"AC149090.1\" \"AC149090.1\" \"AC149090.1\"\n",
       " [76] \"AC149090.1\" \"AC149090.1\" \"AC149090.1\" \"AC149090.1\" \"AC149090.1\"\n",
       " [81] \"AC149090.1\" \"AC149090.1\" \"AC149090.1\" \"AC149090.1\" \"AC149090.1\"\n",
       " [86] \"AC149090.1\" \"AC149090.1\" \"AC149090.1\" \"AC149090.1\" \"AC149090.1\"\n",
       " [91] \"AC149090.1\" \"AC149090.1\" \"AC149090.1\" \"AC149090.1\" \"AC149090.1\"\n",
       " [96] \"AC149090.1\" \"AC149090.1\" \"AC149090.1\" \"AC149090.1\" \"AC149090.1\""
      ]
     },
     "metadata": {},
     "output_type": "display_data"
    }
   ],
   "source": [
    "tail(gtf$gene_name,n=100)"
   ]
  }
 ],
 "metadata": {
  "kernelspec": {
   "display_name": "r_py-r",
   "language": "R",
   "name": "r_py-r"
  },
  "language_info": {
   "codemirror_mode": "r",
   "file_extension": ".r",
   "mimetype": "text/x-r-source",
   "name": "R",
   "pygments_lexer": "r",
   "version": "4.1.1"
  },
  "toc": {
   "base_numbering": 1,
   "nav_menu": {},
   "number_sections": true,
   "sideBar": true,
   "skip_h1_title": false,
   "title_cell": "Table of Contents",
   "title_sidebar": "Contents",
   "toc_cell": false,
   "toc_position": {},
   "toc_section_display": true,
   "toc_window_display": false
  }
 },
 "nbformat": 4,
 "nbformat_minor": 5
}
