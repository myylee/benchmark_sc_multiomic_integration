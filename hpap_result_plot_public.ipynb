{
 "cells": [
  {
   "cell_type": "code",
   "execution_count": 2,
   "id": "ad40fac2",
   "metadata": {},
   "outputs": [],
   "source": [
    "library(tidyverse)\n",
    "library(Seurat)\n",
    "library(sctransform)\n",
    "library(SingleCellExperiment)\n",
    "library(scales)\n",
    "require(patchwork)\n",
    "library(Signac)\n",
    "library(BSgenome.Hsapiens.UCSC.hg38)\n",
    "library(SeuratData)\n",
    "library(SeuratDisk)\n",
    "library(data.table)\n",
    "library(gridExtra)\n",
    "\n"
   ]
  },
  {
   "cell_type": "code",
   "execution_count": 3,
   "id": "d6d4c772",
   "metadata": {},
   "outputs": [
    {
     "data": {
      "text/plain": [
       "R version 4.1.1 (2021-08-10)\n",
       "Platform: x86_64-conda-linux-gnu (64-bit)\n",
       "Running under: CentOS Linux 7 (Core)\n",
       "\n",
       "Matrix products: default\n",
       "BLAS/LAPACK: /home/myylee/anaconda3/envs/r_py/lib/libopenblasp-r0.3.17.so\n",
       "\n",
       "locale:\n",
       " [1] LC_CTYPE=en_US.UTF-8       LC_NUMERIC=C              \n",
       " [3] LC_TIME=en_US.UTF-8        LC_COLLATE=en_US.UTF-8    \n",
       " [5] LC_MONETARY=en_US.UTF-8    LC_MESSAGES=en_US.UTF-8   \n",
       " [7] LC_PAPER=en_US.UTF-8       LC_NAME=C                 \n",
       " [9] LC_ADDRESS=C               LC_TELEPHONE=C            \n",
       "[11] LC_MEASUREMENT=en_US.UTF-8 LC_IDENTIFICATION=C       \n",
       "\n",
       "attached base packages:\n",
       "[1] stats4    stats     graphics  grDevices utils     datasets  methods  \n",
       "[8] base     \n",
       "\n",
       "other attached packages:\n",
       " [1] data.table_1.14.6                 SeuratDisk_0.0.0.9020            \n",
       " [3] SeuratData_0.2.2                  BSgenome.Hsapiens.UCSC.hg38_1.4.3\n",
       " [5] BSgenome_1.62.0                   rtracklayer_1.54.0               \n",
       " [7] Biostrings_2.62.0                 XVector_0.34.0                   \n",
       " [9] Signac_1.8.0                      patchwork_1.1.2                  \n",
       "[11] scales_1.2.1                      SingleCellExperiment_1.16.0      \n",
       "[13] SummarizedExperiment_1.24.0       Biobase_2.54.0                   \n",
       "[15] GenomicRanges_1.46.1              GenomeInfoDb_1.30.1              \n",
       "[17] IRanges_2.28.0                    S4Vectors_0.32.4                 \n",
       "[19] BiocGenerics_0.40.0               MatrixGenerics_1.6.0             \n",
       "[21] matrixStats_0.63.0                sctransform_0.3.5                \n",
       "[23] sp_1.6-0                          SeuratObject_4.1.2               \n",
       "[25] Seurat_4.1.1                      forcats_0.5.2                    \n",
       "[27] stringr_1.5.0                     dplyr_1.0.10                     \n",
       "[29] purrr_0.3.5                       readr_2.1.3                      \n",
       "[31] tidyr_1.2.1                       tibble_3.1.8                     \n",
       "[33] ggplot2_3.4.0                     tidyverse_1.3.2                  \n",
       "\n",
       "loaded via a namespace (and not attached):\n",
       "  [1] utf8_1.2.2               reticulate_1.27          tidyselect_1.2.0        \n",
       "  [4] htmlwidgets_1.6.1        grid_4.1.1               BiocParallel_1.28.3     \n",
       "  [7] Rtsne_0.16               munsell_0.5.0            codetools_0.2-18        \n",
       " [10] ica_1.0-3                pbdZMQ_0.3-7             future_1.30.0           \n",
       " [13] miniUI_0.1.1.1           withr_2.5.0              spatstat.random_3.1-3   \n",
       " [16] colorspace_2.1-0         progressr_0.13.0         uuid_1.1-0              \n",
       " [19] ROCR_1.0-11              tensor_1.5               listenv_0.9.0           \n",
       " [22] repr_1.1.4               GenomeInfoDbData_1.2.7   polyclip_1.10-4         \n",
       " [25] bit64_4.0.5              parallelly_1.34.0        vctrs_0.5.2             \n",
       " [28] generics_0.1.3           R6_2.5.1                 hdf5r_1.3.8             \n",
       " [31] bitops_1.0-7             spatstat.utils_3.0-2     DelayedArray_0.20.0     \n",
       " [34] assertthat_0.2.1         promises_1.2.0.1         BiocIO_1.4.0            \n",
       " [37] googlesheets4_1.0.1      rgeos_0.5-9              gtable_0.3.1            \n",
       " [40] globals_0.16.2           goftest_1.2-3            rlang_1.0.6             \n",
       " [43] RcppRoll_0.3.0           splines_4.1.1            lazyeval_0.2.2          \n",
       " [46] gargle_1.2.1             spatstat.geom_3.1-0      broom_1.0.1             \n",
       " [49] yaml_2.3.7               reshape2_1.4.4           abind_1.4-5             \n",
       " [52] modelr_0.1.9             backports_1.4.1          httpuv_1.6.8            \n",
       " [55] tools_4.1.1              ellipsis_0.3.2           spatstat.core_2.4-4     \n",
       " [58] RColorBrewer_1.1-3       ggridges_0.5.4           Rcpp_1.0.10             \n",
       " [61] plyr_1.8.8               base64enc_0.1-3          zlibbioc_1.40.0         \n",
       " [64] RCurl_1.98-1.9           rpart_4.1.16             deldir_1.0-6            \n",
       " [67] pbapply_1.7-0            cowplot_1.1.1            zoo_1.8-11              \n",
       " [70] haven_2.5.1              ggrepel_0.9.2            cluster_2.1.4           \n",
       " [73] fs_1.6.0                 magrittr_2.0.3           scattermore_0.8         \n",
       " [76] lmtest_0.9-40            reprex_2.0.2             RANN_2.6.1              \n",
       " [79] googledrive_2.0.0        fitdistrplus_1.1-8       hms_1.1.2               \n",
       " [82] mime_0.12                evaluate_0.20            xtable_1.8-4            \n",
       " [85] XML_3.99-0.11            readxl_1.4.1             gridExtra_2.3           \n",
       " [88] compiler_4.1.1           KernSmooth_2.23-20       crayon_1.5.2            \n",
       " [91] htmltools_0.5.4          mgcv_1.8-40              later_1.3.0             \n",
       " [94] tzdb_0.3.0               lubridate_1.8.0          DBI_1.1.3               \n",
       " [97] dbplyr_2.2.1             rappdirs_0.3.3           MASS_7.3-58.1           \n",
       "[100] Matrix_1.5-1             cli_3.3.0                parallel_4.1.1          \n",
       "[103] igraph_1.3.5             pkgconfig_2.0.3          GenomicAlignments_1.30.0\n",
       "[106] IRdisplay_1.1            plotly_4.10.1            spatstat.sparse_3.0-1   \n",
       "[109] xml2_1.3.3               rvest_1.0.3              digest_0.6.31           \n",
       "[112] RcppAnnoy_0.0.20         spatstat.data_3.0-1      cellranger_1.1.0        \n",
       "[115] leiden_0.4.3             fastmatch_1.1-3          uwot_0.1.14             \n",
       "[118] restfulr_0.0.15          shiny_1.7.4              Rsamtools_2.10.0        \n",
       "[121] rjson_0.2.21             lifecycle_1.0.3          nlme_3.1-159            \n",
       "[124] jsonlite_1.8.4           viridisLite_0.4.1        fansi_1.0.4             \n",
       "[127] pillar_1.8.1             lattice_0.20-45          fastmap_1.1.0           \n",
       "[130] httr_1.4.4               survival_3.4-0           glue_1.6.2              \n",
       "[133] png_0.1-8                bit_4.0.5                stringi_1.7.12          \n",
       "[136] IRkernel_1.3             irlba_2.3.5.1            future.apply_1.10.0     "
      ]
     },
     "metadata": {},
     "output_type": "display_data"
    }
   ],
   "source": [
    "sessionInfo()"
   ]
  },
  {
   "cell_type": "markdown",
   "id": "f8974983",
   "metadata": {},
   "source": [
    "# function"
   ]
  },
  {
   "cell_type": "code",
   "execution_count": 10,
   "id": "de790234",
   "metadata": {},
   "outputs": [],
   "source": [
    "add_annot_res <- function(seurat,methods,df_result_sel){\n",
    "    # adding method specific ct result\n",
    "    # add reduction embedding per method\n",
    "    for(method_i in methods){\n",
    "        res_i = df_result_sel %>% dplyr::filter(method == method_i) %>% column_to_rownames(\"X\")\n",
    "        res_i = res_i[rownames(seurat@meta.data),]\n",
    "        annot_i = res_i %>% pull(\"predicted_ct\")\n",
    "        names(annot_i) = rownames(res_i)\n",
    "        seurat <- AddMetaData(\n",
    "          object = seurat,\n",
    "          metadata = annot_i,\n",
    "          col.name = paste0(method_i,\"_annot\")\n",
    "        )\n",
    "        embed_i = res_i %>% mutate(dim1=X0,dim2=X1) %>% dplyr::select(dim1,dim2) \n",
    "        embed_i = embed_i %>% as.matrix()\n",
    "\n",
    "        reduc_i = CreateDimReducObject(embeddings = embed_i, key = method_i, assay = DefaultAssay(seurat))\n",
    "\n",
    "        seurat[[method_i]]= reduc_i\n",
    "\n",
    "    }\n",
    "    return(seurat)\n",
    "}\n",
    "\n",
    "\n"
   ]
  },
  {
   "cell_type": "markdown",
   "id": "cb2d127e",
   "metadata": {},
   "source": [
    "#  RNA data"
   ]
  },
  {
   "cell_type": "code",
   "execution_count": 3,
   "id": "cba4c9c8",
   "metadata": {},
   "outputs": [],
   "source": [
    "scrna_path <- \"dataset/hpap/scRNA/\"\n",
    "scrna <- LoadH5Seurat(paste0(scrna_path,\"hpap_scRNA_10donors.h5seurat\"))\n",
    "multiome_path <- \"dataset/hpap/multiome/\"\n",
    "multiome <- LoadH5Seurat(paste0(multiome_path,\"hpap_multiomeRNA_4donors.h5seurat\"))"
   ]
  },
  {
   "cell_type": "code",
   "execution_count": 536,
   "id": "828244a1",
   "metadata": {},
   "outputs": [],
   "source": [
    "scrna$technology = \"scRNA\"\n",
    "multiome$technology = \"multiomeRNA\"\n",
    "rna_comb <- merge(scrna,multiome)\n"
   ]
  },
  {
   "cell_type": "code",
   "execution_count": 537,
   "id": "93952e57",
   "metadata": {},
   "outputs": [],
   "source": [
    "rna_comb <- NormalizeData(rna_comb, normalization.method = \"LogNormalize\", scale.factor = 10000)"
   ]
  },
  {
   "cell_type": "markdown",
   "id": "2a8de19e",
   "metadata": {},
   "source": [
    "# ATAC data"
   ]
  },
  {
   "cell_type": "code",
   "execution_count": null,
   "id": "ac3abd46",
   "metadata": {},
   "outputs": [],
   "source": [
    "snatac_path <- \"dataset/hpap/snATAC/\"\n",
    "snatac <- LoadH5Seurat(paste0(snatac_path,\"hpap_snATAC_8donors.h5seurat\"))\n",
    "multiome_path <- \"dataset/hpap/multiome/\"\n",
    "multiomeatac <- LoadH5Seurat(paste0(multiome_path,\"hpap_multiomeATAC_4donors.h5seurat\"))\n",
    "\n",
    "#Fragments(multiomeatac@assays$ATAC)\n",
    "\n",
    "multiomeatac[['ATAC2']]<- CreateChromatinAssay(\n",
    "    counts = multiomeatac@assays$ATAC@counts,\n",
    "    sep = c(\"-\", \"-\"),\n",
    "    fragments = 'dataset/hpap/snATAC/hpap_snATAC_multiomeATAC_fragments.tsv.gz'\n",
    ")\n",
    "\n",
    "DefaultAssay(multiomeatac) <- \"ATAC2\"\n",
    "multiomeatac[['ATAC']]<-NULL\n",
    "\n",
    "snatac[['ATAC2']]<- CreateChromatinAssay(\n",
    "    counts = snatac@assays$ATAC@counts,\n",
    "    sep = c(\"-\", \"-\"),\n",
    "    fragments = 'hpap/snATAC/hpap_snATAC_multiomeATAC_fragments.tsv.gz'\n",
    ")\n",
    "\n",
    "DefaultAssay(snatac) <- \"ATAC2\"\n",
    "snatac[['ATAC']]<-NULL\n",
    "\n",
    "snatac$technology = \"snATAC\"\n",
    "multiomeatac$technology = \"multiomeATAC\"\n"
   ]
  },
  {
   "cell_type": "markdown",
   "id": "ac12d989",
   "metadata": {},
   "source": [
    "# Combine RNA and ATAC data"
   ]
  },
  {
   "cell_type": "code",
   "execution_count": null,
   "id": "cae66818",
   "metadata": {},
   "outputs": [],
   "source": [
    "all_combined = merge(rna_comb,snatac)\n",
    "saveRDS(all_combined,file.path(folder_path,\"all_combined.rds\"))"
   ]
  },
  {
   "cell_type": "markdown",
   "id": "6a90c5ae",
   "metadata": {},
   "source": [
    "# plots"
   ]
  },
  {
   "cell_type": "markdown",
   "id": "b096e25d",
   "metadata": {},
   "source": [
    "## Functions"
   ]
  },
  {
   "cell_type": "code",
   "execution_count": 11,
   "id": "96ec32e4",
   "metadata": {},
   "outputs": [],
   "source": [
    "# functions\n",
    "dimplot_custom<-function(seurat,m){\n",
    "    p <- DimPlot(seurat,\n",
    "                 group.by = paste0(m,\"_annot\"),\n",
    "                 reduction = m,\n",
    "                 raster=T,\n",
    "                 label=T\n",
    "                )+\n",
    "    #NoLegend()+\n",
    "    theme(axis.text=element_blank(),\n",
    "          axis.ticks = element_blank(),\n",
    "          axis.title=element_blank(),\n",
    "          plot.title=element_blank())\n",
    "    return(p)\n",
    "}\n",
    "dotplot_custom <- function(seurat,m, genes){\n",
    "    p <- DotPlot(seurat,\n",
    "                 features = genes,\n",
    "                 group.by = paste0(m,\"_annot\"),\n",
    "                 scale.min=0,\n",
    "                 scale.max=80\n",
    "                )+\n",
    "        #NoLegend()+\n",
    "        theme(axis.text=element_text(size=10),\n",
    "              axis.title=element_blank()\n",
    "             )+ \n",
    "        coord_flip()\n",
    "    return(p)\n",
    "}\n",
    "\n",
    "dimplot_custom_technology<-function(seurat,m){\n",
    "    p <- DimPlot(seurat,\n",
    "                 group.by = \"technology\",\n",
    "                 reduction = m,\n",
    "                 shuffle=T,\n",
    "                 pt.size = 0.1,\n",
    "                 raster=T\n",
    "                )+\n",
    "    #NoLegend()+\n",
    "    theme(axis.text=element_blank(),\n",
    "          axis.ticks = element_blank(),\n",
    "          axis.title=element_blank(),\n",
    "          plot.title=element_blank())\n",
    "    return(p)\n",
    "}\n",
    "\n",
    "compile_plot2 <- function(seurat,md,methods,genes,noLegend=TRUE){\n",
    "    plist = list()\n",
    "    counter=1\n",
    "    for(m in methods){\n",
    "        plist[[counter]] = dimplot_custom(seurat,m)\n",
    "        counter = counter + 1\n",
    "        plist[[counter]] = dimplot_custom_technology(seurat,m)\n",
    "        counter = counter + 1\n",
    "        plist[[counter]] = dotplot_custom(seurat,m,genes)\n",
    "        counter = counter + 1\n",
    "    }\n",
    "    if(noLegend){\n",
    "        plist = lapply(plist,function(p){p+ theme(legend.position = \"none\")})\n",
    "    }\n",
    "    return(plist)\n",
    "\n",
    "}\n"
   ]
  },
  {
   "cell_type": "code",
   "execution_count": 4,
   "id": "a6a2bfc6",
   "metadata": {},
   "outputs": [],
   "source": [
    "folder_path <- \"figures/metric_plots/hpap/\"\n",
    "all_combined <- readRDS(file.path(folder_path,\"all_combined.rds\"))\n"
   ]
  },
  {
   "cell_type": "code",
   "execution_count": 4,
   "id": "1b1b3ed0",
   "metadata": {},
   "outputs": [],
   "source": [
    "df_result = read.csv(\"figures/umap/hpap/df_to_plot.csv\")\n",
    "\n",
    "df_result <- df_result %>% mutate(method = gsub(\"_2\",\"\",gsub(\"all70000_1_\",\"\",key)))\n",
    "\n",
    "methods = unique(df_result$method)\n",
    "table(df_result$method)\n",
    "df_result_dedup = c()\n",
    "for(i in unique(df_result$method)){\n",
    "    print(i)\n",
    "    df_method_i = df_result[df_result$method==i,]\n",
    "    # edit cell names for paired cells \n",
    "    df_method_i = df_method_i %>% mutate(bc = gsub(\"patac_\",\"\",gsub(\"prna_\",\"\",X))) %>% select(-X) %>% mutate(X=bc)\n",
    "    df_result_dedup = rbind(df_result_dedup,df_method_i)\n",
    "    \n",
    "}\n",
    "table(df_result_dedup$method)\n",
    "# add annotation and reduction \n",
    "all_combined2 = add_annot_res(all_combined,methods,df_result_dedup)\n",
    "\n",
    "# manually edit the cluster ID for LIGER result to go from 0 - 9\n",
    "all_combined2$rliger_annot<- as.factor(all_combined2$rliger_annot)\n",
    "levels(all_combined2$rliger_annot)\n",
    "levels(all_combined2$rliger_annot) <- as.character(c(1:10) - 1)\n",
    "levels(all_combined2$rliger_annot)\n",
    "\n",
    "all_combined2$technology <- factor(all_combined2$technology,\n",
    "                                  levels=c(\"scRNA\",\"snATAC\",\"Multiome\"))\n",
    "table(all_combined2$technology)"
   ]
  },
  {
   "cell_type": "markdown",
   "id": "0ca8e6fb",
   "metadata": {},
   "source": [
    "## methods - figure 8"
   ]
  },
  {
   "cell_type": "code",
   "execution_count": 5,
   "id": "168f41a8",
   "metadata": {},
   "outputs": [],
   "source": [
    "methods_sel = c(\"seurat4int\",\"multivi\",\"glue\",\"rbindsc\")\n",
    "p_sel <- compile_plot2(all_combined,all_combined@meta.data,methods_sel,markers,noLegend = TRUE)\n",
    "p_sel\n",
    "\n",
    "file_name <- \"all_compiled2_wScale_noLegend_noTitle.pdf\"\n",
    "                                                  \n",
    "pdf(file.path(folder_path,file_name),width=7,height=8.5)             \n",
    "grid.arrange(grobs=p_sel,ncol=3,nrow=4,widths=c(2,2,3))\n",
    "dev.off()\n"
   ]
  },
  {
   "cell_type": "markdown",
   "id": "39ec44b7",
   "metadata": {},
   "source": [
    "## methods - supplementary figure"
   ]
  },
  {
   "cell_type": "code",
   "execution_count": 6,
   "id": "9d200d8d",
   "metadata": {},
   "outputs": [],
   "source": [
    "methods_alt = c(\"rfigr\",\"rliger\",\"seurat3\",\"cobolt\",\"scmomat\")\n",
    "markers = c(\"INS\",\"GCG\",\"SST\",\"PPY\",\"GHRL\",\"CPA1\",\"KRT19\",\"PDGFRB\",\"VWF\",\"PTPRC\")\n",
    "\n",
    "p_sel <- compile_plot2(all_combined2,all_combined2@meta.data,methods_alt,markers,noLegend = TRUE)\n",
    "p_sel\n",
    "\n",
    "file_name <- \"all_compiled2_wScale_noLegend_noTitle_methods_alt.pdf\"\n",
    "                                                  \n",
    "pdf(file.path(folder_path,file_name),width=7,height=11)             \n",
    "grid.arrange(grobs=p_sel,ncol=3,nrow=5,widths=c(2,2,3))\n",
    "dev.off()\n",
    "\n",
    "\n",
    "methods_alt = c(\"rfigr\",\"rliger\",\"seurat3\",\"cobolt\",\"scmomat\")\n",
    "markers = c(\"INS\",\"GCG\",\"SST\",\"PPY\",\"GHRL\",\"CPA1\",\"KRT19\",\"PDGFRB\",\"VWF\",\"PTPRC\")\n",
    "\n",
    "p_sel <- compile_plot2(all_combined2,all_combined2@meta.data,methods_alt,markers,noLegend = FALSE)\n",
    "p_sel\n",
    "\n",
    "file_name <- \"all_compiled2_wScale_wLegend_noTitle_methods_alt.pdf\"\n",
    "                                                  \n",
    "pdf(file.path(folder_path,file_name),width=7,height=11)             \n",
    "grid.arrange(grobs=p_sel,ncol=3,nrow=5,widths=c(2,2,3))\n",
    "dev.off()\n"
   ]
  },
  {
   "cell_type": "markdown",
   "id": "201b783e",
   "metadata": {},
   "source": [
    "## Venn diagram: donor overlap"
   ]
  },
  {
   "cell_type": "code",
   "execution_count": 1000,
   "id": "48892705",
   "metadata": {},
   "outputs": [],
   "source": [
    "md_sel <- all_combined@meta.data %>% dplyr::select(donor,technology) %>% distinct()"
   ]
  },
  {
   "cell_type": "code",
   "execution_count": 1031,
   "id": "0197c4c6",
   "metadata": {},
   "outputs": [],
   "source": [
    "x <- list(`scRNA` = md_sel$donor[md_sel$technology == \"scRNA\"],\n",
    "          `snATAC` = md_sel$donor[md_sel$technology == \"snATAC\"],\n",
    "          `Multiome` = md_sel$donor[md_sel$technology == \"Multiome\"])\n"
   ]
  },
  {
   "cell_type": "code",
   "execution_count": 1038,
   "id": "33387f6a",
   "metadata": {},
   "outputs": [
    {
     "data": {
      "text/html": [
       "<strong>png:</strong> 2"
      ],
      "text/latex": [
       "\\textbf{png:} 2"
      ],
      "text/markdown": [
       "**png:** 2"
      ],
      "text/plain": [
       "png \n",
       "  2 "
      ]
     },
     "metadata": {},
     "output_type": "display_data"
    }
   ],
   "source": [
    "library(ggvenn)\n",
    "\n",
    "file_name <- \"venndiagram.pdf\"\n",
    "                                                  \n",
    "pdf(file.path(folder_path,file_name),width=3,height=3)             \n",
    "ggvenn(x, c(\"scRNA\",\"snATAC\",\"Multiome\"),fill_color=scales::hue_pal()(3))\n",
    "dev.off()\n",
    "\n"
   ]
  }
 ],
 "metadata": {
  "kernelspec": {
   "display_name": "r_py-r",
   "language": "R",
   "name": "r_py-r"
  },
  "language_info": {
   "codemirror_mode": "r",
   "file_extension": ".r",
   "mimetype": "text/x-r-source",
   "name": "R",
   "pygments_lexer": "r",
   "version": "4.1.1"
  },
  "toc": {
   "base_numbering": 1,
   "nav_menu": {},
   "number_sections": true,
   "sideBar": true,
   "skip_h1_title": false,
   "title_cell": "Table of Contents",
   "title_sidebar": "Contents",
   "toc_cell": false,
   "toc_position": {
    "height": "calc(100% - 180px)",
    "left": "10px",
    "top": "150px",
    "width": "343.391px"
   },
   "toc_section_display": true,
   "toc_window_display": true
  }
 },
 "nbformat": 4,
 "nbformat_minor": 5
}
